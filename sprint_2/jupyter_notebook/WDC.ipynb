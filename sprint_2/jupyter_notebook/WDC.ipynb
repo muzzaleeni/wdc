{
 "cells": [
  {
   "cell_type": "markdown",
   "metadata": {},
   "source": [
    "# DataCube Library Project\n",
    "\n",
    "This notebook offers a step-by-step interactive tutorial on how use the Python DataCube library in this repository.\n",
    "\n",
    "## Install Prerequisites\n",
    "\n",
    "There are several prerequisites needed to run this library. Installing is easy. Simply run the following command in your shell. If you would like to see the list of requirements, please check the requirements.txt file."
   ]
  },
  {
   "cell_type": "code",
   "execution_count": null,
   "metadata": {
    "vscode": {
     "languageId": "shellscript"
    }
   },
   "outputs": [],
   "source": [
    "pip install -r requirements.txt"
   ]
  },
  {
   "cell_type": "markdown",
   "metadata": {},
   "source": [
    "## Using the Library\n",
    "\n",
    "Several sample executions will now be shown, showing the capabilities of the library.\n",
    "\n",
    "### Example 1\n",
    "\n",
    "After importing the necessary libraries and classes, a dbc (DatabaseConnection) object is intialized. This same dbc will be used for all subsequent Datacubes. The creation of a Datacube is demonstrated; for this example, a coverage that returns an image is used. The last 5 lines show how you can display these results using Matplotlib."
   ]
  },
  {
   "cell_type": "code",
   "execution_count": null,
   "metadata": {},
   "outputs": [],
   "source": [
    "from IPython.display import Image\n",
    "from wdc.dco import Datacube\n",
    "from wdc.dbc import DatabaseConnection\n",
    "import matplotlib.pyplot as plt\n",
    "import io\n",
    "\n",
    "# Creating dbc and Datacube\n",
    "con = DatabaseConnection()\n",
    "datacube = Datacube(con, coverage_id='AvgTemperatureColorScaled', encode='image/png')\n",
    "\n",
    "# Modifying functionalities\n",
    "modify_ans = {\"ansi\": \"2000-04\"}\n",
    "slice_datacube = datacube.slice(modify_ans)\n",
    "datat = slice_datacube.execute()\n",
    "\n",
    "# Image(data)\n",
    "image2 = plt.imread(io.BytesIO(datat))\n",
    "\n",
    "# Display the image using Matplotlib\n",
    "plt.imshow(image2)\n",
    "plt.axis('off') # Optional: Turn off axis\n",
    "plt.show()"
   ]
  },
  {
   "cell_type": "markdown",
   "metadata": {},
   "source": [
    "### Example 2\n",
    "\n",
    "This example shows the creation of a second datacube. This time, a coverage that returns text results is used. For ease of processing, this result is enconded in a CSV format. The slice and execute methods are once again used to process the query. The following lines decode the response, and the appropriate Matplot methods are used to display the results."
   ]
  },
  {
   "cell_type": "code",
   "execution_count": null,
   "metadata": {},
   "outputs": [],
   "source": [
    "datacube1 = Datacube(con, coverage_id='AvgLandTemp', encode='text/csv')\n",
    "subset = {\"ansi\": (\"2014-01\", \"2014-12\"), \"Lat\": (53.08), \"Lon\": (8.80)}\n",
    "slice_datacube1 = datacube1.slice(subset)\n",
    "data_bytes = slice_datacube1.execute()\n",
    "data_str = data_bytes.decode('utf-8')\n",
    "\n",
    "y_values = [float(val) for val in data_str.split(',')]\n",
    "x_values = range(len(y_values))\n",
    "\n",
    "plt.plot(x_values, y_values)\n",
    "plt.xlabel('Index')\n",
    "plt.ylabel('Value')\n",
    "plt.title(f'{slice_datacube1.coverage_id}')\n",
    "plt.grid(True)\n",
    "plt.show()"
   ]
  },
  {
   "cell_type": "markdown",
   "metadata": {},
   "source": [
    "### Example 3\n",
    "\n",
    "This example shows the creation of a third datacube. This datacube uses a similar coverage and encoding as the first one, but an alternative method of obtaining information is used (the .get() method). The rest of the methods for Matplot remain the same."
   ]
  },
  {
   "cell_type": "code",
   "execution_count": null,
   "metadata": {},
   "outputs": [],
   "source": [
    "datacube2 = Datacube(con, coverage_id='AvgTemperatureColorScaled', encode='image/png')\n",
    "datat1 = datacube2.get('2014-07')\n",
    "Image(datat1)\n",
    "# Convert the image data to a format compatible with Matplotlib\n",
    "image = plt.imread(io.BytesIO(datat1))\n",
    "# Display the image using Matplotlib\n",
    "plt.imshow(image)\n",
    "plt.axis('off')  # Optional: Turn off axis\n",
    "plt.show()"
   ]
  },
  {
   "cell_type": "markdown",
   "metadata": {},
   "source": [
    "### Example 4\n",
    "\n",
    "This example modifies an existing datacube instead of creating a new one. The same coverage is used, but a different set of information is requested and displayed."
   ]
  },
  {
   "cell_type": "code",
   "execution_count": null,
   "metadata": {},
   "outputs": [],
   "source": [
    "# Modifying functionalities of datacube2\n",
    "modify_ans1 = {\"ansi\": \"2000-02-01\"}\n",
    "subset_dc = datacube2.slice(modify_ans1)\n",
    "data1 = subset_dc.execute()\n",
    "Image(data1)\n",
    "image1 = plt.imread(io.BytesIO(data1))\n",
    "\n",
    "# Display the image using Matplotlib\n",
    "plt.imshow(image1)\n",
    "plt.axis('off') # Optional: Turn off axis\n",
    "plt.show()"
   ]
  },
  {
   "cell_type": "markdown",
   "metadata": {},
   "source": [
    "## Conclusion\n",
    "\n",
    "This concludes the walkthrough of the library's features so far. For complimentary documentation and information, please consult the README file."
   ]
  }
 ],
 "metadata": {
  "language_info": {
   "name": "python"
  }
 },
 "nbformat": 4,
 "nbformat_minor": 2
}
